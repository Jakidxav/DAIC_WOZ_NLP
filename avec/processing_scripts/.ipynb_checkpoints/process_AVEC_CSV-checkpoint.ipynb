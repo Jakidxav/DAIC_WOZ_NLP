{
 "cells": [
  {
   "cell_type": "markdown",
   "metadata": {},
   "source": [
    "\n",
    "Author: Jakidxav\n",
    "Date: 06.19.2019\n",
    "\n",
    "Process a DAIC_WOZ transcript for the AVEC challenge, convert the CSV file to a .txt file\n",
    "\n",
    "The script depends on the following stardardized input format:\n",
    "\n",
    "Columns: start_time, stop_time, Text\n",
    "- start_time, stop_time: these should correspond to only one speaker\n",
    "- Text: this column **must** be labelled Text. This differs from the old DAIC-WOZ data attribute \"value\".\n",
    "- Note that there is no \"speaker\" column like in the old DAIC-WOZ data, as Ellie's portions of the transcripts have been stripped. Only those parts corresponding to the participant's speech are included."
   ]
  },
  {
   "cell_type": "code",
   "execution_count": 3,
   "metadata": {},
   "outputs": [],
   "source": [
    "import csv\n",
    "import pandas as pd\n",
    "import numpy as np\n",
    "import os"
   ]
  },
  {
   "cell_type": "code",
   "execution_count": 4,
   "metadata": {},
   "outputs": [],
   "source": [
    "train_folder = './train/'\n",
    "change_dir_train = '../../train/'\n",
    "\n",
    "#we will need to change directories for the dev CSV files\n",
    "dev_folder = './dev/'\n",
    "change_dir_dev = '../../dev/'\n",
    "\n",
    "#where to store the actual transcripts\n",
    "train_part_dir = '../trainPart/raw/'\n",
    "dev_part_dir = '../devPart/raw/'"
   ]
  },
  {
   "cell_type": "code",
   "execution_count": 5,
   "metadata": {},
   "outputs": [],
   "source": [
    "#change to correct directory to start; either train or dev folder\n",
    "os.chdir(dev_folder)\n",
    "this_dir = os.getcwd()"
   ]
  },
  {
   "cell_type": "code",
   "execution_count": 7,
   "metadata": {},
   "outputs": [],
   "source": [
    "for subdir, dirs, files in os.walk(this_dir):\n",
    "    for file in files:\n",
    "        if file.endswith('.csv'):\n",
    "            #NOTE: the filename should be constructed as 'num_TRANSCRIPT.csv'\n",
    "            #save output file as the original name, but as a text file\n",
    "            out_file_part = file.replace('.csv', '_part_raw.txt')      #participant only\n",
    "\n",
    "            #read in the CSV file as a dataframe\n",
    "            df = pd.read_csv(file)\n",
    "\n",
    "            #discard all columns but the participant's speech, save as .txt file\n",
    "            #**CHANGE THIS DIRECTORY when re-routing to train/dev folders\n",
    "            os.chdir(dev_part_dir)\n",
    "            np.savetxt(out_file_part, df.Text.values, fmt=['%s'])\n",
    "\n",
    "            #change back to input directory\n",
    "            #**CHANGE THIS DIRECTORY when re-routing to train/dev folders\n",
    "            os.chdir(change_dir_dev)\n",
    "            this_dir = os.getcwd()"
   ]
  },
  {
   "cell_type": "code",
   "execution_count": null,
   "metadata": {},
   "outputs": [],
   "source": []
  }
 ],
 "metadata": {
  "kernelspec": {
   "display_name": "Python 3",
   "language": "python",
   "name": "python3"
  },
  "language_info": {
   "codemirror_mode": {
    "name": "ipython",
    "version": 3
   },
   "file_extension": ".py",
   "mimetype": "text/x-python",
   "name": "python",
   "nbconvert_exporter": "python",
   "pygments_lexer": "ipython3",
   "version": "3.6.8"
  }
 },
 "nbformat": 4,
 "nbformat_minor": 2
}
