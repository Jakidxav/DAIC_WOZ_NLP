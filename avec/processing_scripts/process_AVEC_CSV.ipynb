{
 "cells": [
  {
   "cell_type": "markdown",
   "metadata": {},
   "source": [
    "\n",
    "Author: Jakidxav\n",
    "Date: 06.18.2019\n",
    "\n",
    "Process a DAIC_WOZ transcript for the AVEC challenge, convert the CSV file to a .txt file\n",
    "\n",
    "The script depends on the following stardardized input format:\n",
    "\n",
    "Columns: start_time, stop_time, Text\n",
    "- start_time, stop_time: these should correspond to only one speaker\n",
    "- Text: this column **must** be labelled Text. This differs from the old DAIC-WOZ data attribute \"value\".\n",
    "- Note that there is no \"speaker\" column like in the old DAIC-WOZ data, as Ellie's portions of the transcripts have been stripped. Only those parts corresponding to the participant's speech are included."
   ]
  },
  {
   "cell_type": "code",
   "execution_count": 1,
   "metadata": {},
   "outputs": [],
   "source": [
    "import csv\n",
    "import pandas as pd\n",
    "import numpy as np\n",
    "import os\n",
    "\n",
    "from clean_text import *\n",
    "from process_text import *"
   ]
  },
  {
   "cell_type": "code",
   "execution_count": 2,
   "metadata": {},
   "outputs": [],
   "source": [
    "train_folder = './train/'\n",
    "change_dir_train = '../../train/'\n",
    "\n",
    "#we will need to change directories for the dev CSV files\n",
    "dev_folder = './dev/'\n",
    "change_dir_dev = '../../dev/'\n",
    "\n",
    "#where to store the actual transcripts\n",
    "train_part_dir = '../trainPart/raw/'\n",
    "dev_part_dir = '../devPart/raw/'\n",
    "\n",
    "to_replace = '.csv'\n",
    "replace_with = '_part_raw.txt'"
   ]
  },
  {
   "cell_type": "code",
   "execution_count": 3,
   "metadata": {},
   "outputs": [],
   "source": [
    "#change to correct directory to start; either train or dev folder\n",
    "os.chdir(dev_folder)\n",
    "this_dir = os.getcwd()"
   ]
  },
  {
   "cell_type": "code",
   "execution_count": 4,
   "metadata": {},
   "outputs": [],
   "source": [
    "#convert csv files to txt files\n",
    "csv_to_txt(this_dir, to_replace, replace_with, dev_part_dir, change_dir_dev)"
   ]
  },
  {
   "cell_type": "code",
   "execution_count": null,
   "metadata": {},
   "outputs": [],
   "source": []
  }
 ],
 "metadata": {
  "kernelspec": {
   "display_name": "Python 3",
   "language": "python",
   "name": "python3"
  },
  "language_info": {
   "codemirror_mode": {
    "name": "ipython",
    "version": 3
   },
   "file_extension": ".py",
   "mimetype": "text/x-python",
   "name": "python",
   "nbconvert_exporter": "python",
   "pygments_lexer": "ipython3",
   "version": "3.6.8"
  }
 },
 "nbformat": 4,
 "nbformat_minor": 2
}
