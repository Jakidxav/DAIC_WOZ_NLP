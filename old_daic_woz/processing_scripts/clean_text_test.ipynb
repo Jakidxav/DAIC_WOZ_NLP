{
 "cells": [
  {
   "cell_type": "markdown",
   "metadata": {},
   "source": [
    "Author: Jakidxav\n",
    "\n",
    "Date: 04.18.2019\n",
    "\n",
    "This notebook is to test and demonstrate the helper methods I wrote as NLTK wrappers for the DAIC_WOZ NLP project. The goal of these functions is to clarify processing workflow by decluttering the workspace. All of the functions written in `clean_text.py` have the form: `output = function(input)`."
   ]
  },
  {
   "cell_type": "code",
   "execution_count": 1,
   "metadata": {},
   "outputs": [],
   "source": [
    "import string\n",
    "import nltk\n",
    "\n",
    "from clean_text import *"
   ]
  },
  {
   "cell_type": "code",
   "execution_count": 2,
   "metadata": {},
   "outputs": [],
   "source": [
    "#example string\n",
    "example = \"<semantics> me This mmm los angeles  &is [an] ExAmPlE? {of} 45 Jennifer string Americans. My with.? <sigh> xxx [] you they theirs punctuation mine michelle, [laugh] by stopwordS wouldn't I'm and whitespace.    Can't wait!!!!\"\n",
    "\n",
    "#create stop words set\n",
    "stops = set(nltk.corpus.stopwords.words('english'))\n",
    "punctuation = string.punctuation"
   ]
  },
  {
   "cell_type": "markdown",
   "metadata": {},
   "source": [
    "### Example processing flow:"
   ]
  },
  {
   "cell_type": "code",
   "execution_count": 3,
   "metadata": {},
   "outputs": [],
   "source": [
    "#sentence tokenize\n",
    "sentences = sentence_tokenize(example)\n",
    "\n",
    "#whitespace tokenize\n",
    "tokens = tokenize(example)\n",
    "\n",
    "#take out semantic information\n",
    "no_semantics = remove_semantics(tokens)\n",
    "\n",
    "#remove proper nouns: NNP and NNPS are the POS tag for proper nouns\n",
    "no_nnp = remove_proper_nouns(no_semantics)\n",
    "\n",
    "#convert back to string to split apart contractions\n",
    "l2s = list_to_string(no_nnp)\n",
    "\n",
    "#split contractions AFTER removing semantic information\n",
    "split_contractions = split_contractions(l2s)\n",
    "\n",
    "#strip punctuation\n",
    "no_punct = strip_punctuation(split_contractions)\n",
    "\n",
    "#convert to lowercase\n",
    "lower = lower_case(no_punct)\n",
    "\n",
    "#remove stopwords\n",
    "no_stops = remove_stopwords(lower)\n",
    "\n",
    "#remove numbers from tokens\n",
    "words = remove_numbers(no_stops)"
   ]
  },
  {
   "cell_type": "code",
   "execution_count": 4,
   "metadata": {},
   "outputs": [
    {
     "name": "stdout",
     "output_type": "stream",
     "text": [
      "Raw Input:\n",
      " <semantics> me This mmm los angeles  &is [an] ExAmPlE? {of} 45 Jennifer string Americans. My with.? <sigh> xxx [] you they theirs punctuation mine michelle, [laugh] by stopwordS wouldn't I'm and whitespace.    Can't wait!!!! \n",
      "\n",
      "Sentence tokenize:\n",
      " ['<semantics> me This mmm los angeles  &is [an] ExAmPlE?', '{of} 45 Jennifer string Americans.', 'My with.?', \"<sigh> xxx [] you they theirs punctuation mine michelle, [laugh] by stopwordS wouldn't I'm and whitespace.\", \"Can't wait!!!\", '!'] \n",
      "\n",
      "Tokenize:\n",
      " ['<semantics>', 'me', 'This', 'mmm', 'los', 'angeles', '&is', '[an]', 'ExAmPlE?', '{of}', '45', 'Jennifer', 'string', 'Americans.', 'My', 'with.?', '<sigh>', 'xxx', '[]', 'you', 'they', 'theirs', 'punctuation', 'mine', 'michelle,', '[laugh]', 'by', 'stopwordS', \"wouldn't\", \"I'm\", 'and', 'whitespace.', \"Can't\", 'wait!!!!'] \n",
      "\n",
      "Remove Semantic Info:\n",
      " ['me', 'This', 'mmm', 'los', 'angeles', '&is', 'ExAmPlE?', '{of}', '45', 'Jennifer', 'string', 'Americans.', 'My', 'with.?', 'xxx', 'you', 'they', 'theirs', 'punctuation', 'mine', 'michelle,', 'by', 'stopwordS', \"wouldn't\", \"I'm\", 'and', 'whitespace.', \"Can't\", 'wait!!!!'] \n",
      "\n",
      "Remove Proper Nouns:\n",
      " ['me', 'This', 'mmm', 'los', 'angeles', '&is', '45', 'string', 'with.?', 'xxx', 'you', 'they', 'theirs', 'punctuation', 'mine', 'michelle,', 'by', 'stopwordS', \"wouldn't\", 'and', 'whitespace.', 'wait!!!!'] \n",
      "\n",
      "Split Contractions:\n",
      " ['me', 'This', 'mmm', 'los', 'angeles', '&', 'is', '45', 'string', 'with', '.?', 'xxx', 'you', 'they', 'theirs', 'punctuation', 'mine', 'michelle', ',', 'by', 'stopwordS', 'wouldn', \"'\", 't', 'and', 'whitespace', '.', 'wait', '!!!!'] \n",
      "\n",
      "Remove Punctuation:\n",
      " ['me', 'This', 'mmm', 'los', 'angeles', '', 'is', '45', 'string', 'with', '', 'xxx', 'you', 'they', 'theirs', 'punctuation', 'mine', 'michelle', '', 'by', 'stopwordS', 'wouldn', '', 't', 'and', 'whitespace', '', 'wait', ''] \n",
      "\n",
      "Lowercase:\n",
      " ['me', 'this', 'mmm', 'los', 'angeles', '', 'is', '45', 'string', 'with', '', 'xxx', 'you', 'they', 'theirs', 'punctuation', 'mine', 'michelle', '', 'by', 'stopwords', 'wouldn', '', 't', 'and', 'whitespace', '', 'wait', ''] \n",
      "\n",
      "Remove Stopwords:\n",
      " ['los', 'angeles', '', '45', 'string', '', 'punctuation', 'mine', 'michelle', '', 'stopwords', '', 'whitespace', '', 'wait', ''] \n",
      "\n",
      "Final:\n",
      " ['los', 'angeles', 'string', 'punctuation', 'mine', 'michelle', 'stopwords', 'whitespace', 'wait'] \n",
      "\n"
     ]
    }
   ],
   "source": [
    "print('Raw Input:\\n', example, '\\n')\n",
    "print('Sentence tokenize:\\n', sentences, '\\n')\n",
    "print('Tokenize:\\n', tokens, '\\n')\n",
    "print('Remove Semantic Info:\\n', no_semantics, '\\n')\n",
    "print('Remove Proper Nouns:\\n', no_nnp, '\\n')\n",
    "print('Split Contractions:\\n', split_contractions, '\\n')\n",
    "print('Remove Punctuation:\\n', no_punct, '\\n')\n",
    "print('Lowercase:\\n', lower, '\\n')\n",
    "print('Remove Stopwords:\\n', no_stops, '\\n')\n",
    "print('Final:\\n', words, '\\n')"
   ]
  },
  {
   "cell_type": "code",
   "execution_count": null,
   "metadata": {},
   "outputs": [],
   "source": []
  }
 ],
 "metadata": {
  "kernelspec": {
   "display_name": "Python 3",
   "language": "python",
   "name": "python3"
  },
  "language_info": {
   "codemirror_mode": {
    "name": "ipython",
    "version": 3
   },
   "file_extension": ".py",
   "mimetype": "text/x-python",
   "name": "python",
   "nbconvert_exporter": "python",
   "pygments_lexer": "ipython3",
   "version": "3.6.8"
  }
 },
 "nbformat": 4,
 "nbformat_minor": 2
}
