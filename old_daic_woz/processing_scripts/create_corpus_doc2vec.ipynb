{
 "cells": [
  {
   "cell_type": "code",
   "execution_count": 1,
   "metadata": {},
   "outputs": [],
   "source": [
    "import csv\n",
    "import pandas as pd\n",
    "import numpy as np\n",
    "import os\n",
    "\n",
    "from clean_text import *\n",
    "\n",
    "from gensim.models.doc2vec import Doc2Vec, TaggedDocument "
   ]
  },
  {
   "cell_type": "code",
   "execution_count": 2,
   "metadata": {},
   "outputs": [],
   "source": [
    "#change directory\n",
    "raw_text_dir = './Part/raw/'\n",
    "clean_text_dir = './Part/clean_tokens'\n",
    "with_i_text_dir = './Part/cleaned_with_i'\n",
    "\n",
    "change_dir = os.chdir(with_i_text_dir)\n",
    "\n",
    "#get current working directory\n",
    "this_dir = os.getcwd()\n",
    "filenames = os.listdir(this_dir)\n",
    "\n",
    "#sort filenames for sorting vectors\n",
    "filenames = sorted(filenames)\n",
    "\n",
    "#list to append each transcript to\n",
    "docs = []\n",
    "\n",
    "#we need the participant numbers to create TaggedDocument\n",
    "participant_nums = []"
   ]
  },
  {
   "cell_type": "code",
   "execution_count": 3,
   "metadata": {},
   "outputs": [],
   "source": [
    "#need to iterate through documents\n",
    "#create a list of *strings*, each one containing the transcript of a participant\n",
    "for filename in filenames:\n",
    "    if filename.endswith('.txt'):\n",
    "        #read in file contents\n",
    "        file = open(filename, 'rt')\n",
    "        text = file.read()\n",
    "        file.close()\n",
    "        \n",
    "        participant_nums.append(int(filename[:3]))\n",
    "        \n",
    "        #whitespace tokenize\n",
    "        tokens = tokenize(text)\n",
    "        \n",
    "        #create our list of lists, each list containing tokens in document\n",
    "        docs.append(tokens)"
   ]
  },
  {
   "cell_type": "code",
   "execution_count": 4,
   "metadata": {},
   "outputs": [],
   "source": [
    "Documents = [TaggedDocument(doc, [i]) for i, doc in enumerate(docs)]\n",
    "\n",
    "tags = [i for i, doc in enumerate(docs)]"
   ]
  },
  {
   "cell_type": "code",
   "execution_count": 5,
   "metadata": {},
   "outputs": [
    {
     "name": "stdout",
     "output_type": "stream",
     "text": [
      "189\n",
      "189\n"
     ]
    }
   ],
   "source": [
    "#make sure we have a Document and tag for every participant, there should be 189\n",
    "print(len(Documents))\n",
    "print(len(tags))"
   ]
  },
  {
   "cell_type": "code",
   "execution_count": 6,
   "metadata": {},
   "outputs": [],
   "source": [
    "#create the model here\n",
    "#i am choosing min_count=1 here, because the majority of words seem to only occur once in file\n",
    "model = Doc2Vec(Documents, vector_size=100, window=10, min_count=1)"
   ]
  },
  {
   "cell_type": "code",
   "execution_count": 7,
   "metadata": {},
   "outputs": [
    {
     "data": {
      "text/plain": [
       "<gensim.models.doc2vec.Doc2Vec at 0x7fb81fac3550>"
      ]
     },
     "execution_count": 7,
     "metadata": {},
     "output_type": "execute_result"
    }
   ],
   "source": [
    "#let's look at our model's type\n",
    "model"
   ]
  },
  {
   "cell_type": "code",
   "execution_count": 8,
   "metadata": {},
   "outputs": [
    {
     "name": "stdout",
     "output_type": "stream",
     "text": [
      "<gensim.models.keyedvectors.Doc2VecKeyedVectors object at 0x7fb81fac3588>\n"
     ]
    }
   ],
   "source": [
    "#get document vectors\n",
    "docvecs = model.docvecs\n",
    "\n",
    "print(docvecs)"
   ]
  },
  {
   "cell_type": "code",
   "execution_count": 9,
   "metadata": {},
   "outputs": [],
   "source": [
    "#now extract vectors from keyedvectors.Doc2VecKeyedVectors object\n",
    "vectors = []\n",
    "\n",
    "for i in tags:\n",
    "    vectors.append(docvecs[i])"
   ]
  },
  {
   "cell_type": "code",
   "execution_count": 10,
   "metadata": {},
   "outputs": [],
   "source": [
    "#convert vectors list to array for saving, loading, and training\n",
    "vectors = np.array(vectors)"
   ]
  },
  {
   "cell_type": "code",
   "execution_count": 11,
   "metadata": {},
   "outputs": [
    {
     "name": "stdout",
     "output_type": "stream",
     "text": [
      "(189, 100)\n"
     ]
    }
   ],
   "source": [
    "#shape should be (189, 100)\n",
    "#189 participants, lenth 100 based on our criterion\n",
    "print(np.shape(vectors))"
   ]
  },
  {
   "cell_type": "code",
   "execution_count": 12,
   "metadata": {},
   "outputs": [],
   "source": [
    "#save array to load for training\n",
    "#np.save('X_raw_doc2vec.npy', vectors)\n",
    "#np.save('X_clean_doc2vec.npy', vectors)\n",
    "np.save('X_i_doc2vec.npy', vectors)"
   ]
  },
  {
   "cell_type": "code",
   "execution_count": null,
   "metadata": {},
   "outputs": [],
   "source": []
  }
 ],
 "metadata": {
  "kernelspec": {
   "display_name": "Python 3",
   "language": "python",
   "name": "python3"
  },
  "language_info": {
   "codemirror_mode": {
    "name": "ipython",
    "version": 3
   },
   "file_extension": ".py",
   "mimetype": "text/x-python",
   "name": "python",
   "nbconvert_exporter": "python",
   "pygments_lexer": "ipython3",
   "version": "3.6.8"
  }
 },
 "nbformat": 4,
 "nbformat_minor": 2
}
