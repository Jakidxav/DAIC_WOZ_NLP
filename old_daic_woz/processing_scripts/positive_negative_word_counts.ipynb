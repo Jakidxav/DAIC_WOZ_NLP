{
 "cells": [
  {
   "cell_type": "code",
   "execution_count": 1,
   "metadata": {},
   "outputs": [],
   "source": [
    "import csv\n",
    "import pandas as pd\n",
    "import numpy as np\n",
    "import os\n",
    "\n",
    "from clean_text import *"
   ]
  },
  {
   "cell_type": "code",
   "execution_count": 2,
   "metadata": {},
   "outputs": [],
   "source": [
    "#change directory\n",
    "with_i_text_dir = './Part/cleaned_with_i'\n",
    "\n",
    "#positive and negative word lists obtained from here:\n",
    "#http://www.wjh.harvard.edu/~inquirer/homecat.htm\n",
    "pos_neg_file = 'inquirerbasic.xls'"
   ]
  },
  {
   "cell_type": "code",
   "execution_count": 3,
   "metadata": {},
   "outputs": [
    {
     "data": {
      "text/html": [
       "<div>\n",
       "<style scoped>\n",
       "    .dataframe tbody tr th:only-of-type {\n",
       "        vertical-align: middle;\n",
       "    }\n",
       "\n",
       "    .dataframe tbody tr th {\n",
       "        vertical-align: top;\n",
       "    }\n",
       "\n",
       "    .dataframe thead th {\n",
       "        text-align: right;\n",
       "    }\n",
       "</style>\n",
       "<table border=\"1\" class=\"dataframe\">\n",
       "  <thead>\n",
       "    <tr style=\"text-align: right;\">\n",
       "      <th></th>\n",
       "      <th>Entry</th>\n",
       "      <th>Source</th>\n",
       "      <th>Positiv</th>\n",
       "      <th>Negativ</th>\n",
       "      <th>Pstv</th>\n",
       "      <th>Affil</th>\n",
       "      <th>Ngtv</th>\n",
       "      <th>Hostile</th>\n",
       "      <th>Strong</th>\n",
       "      <th>Power</th>\n",
       "      <th>...</th>\n",
       "      <th>Anomie</th>\n",
       "      <th>NegAff</th>\n",
       "      <th>PosAff</th>\n",
       "      <th>SureLw</th>\n",
       "      <th>If</th>\n",
       "      <th>NotLw</th>\n",
       "      <th>TimeSpc</th>\n",
       "      <th>FormLw</th>\n",
       "      <th>Othtags</th>\n",
       "      <th>Defined</th>\n",
       "    </tr>\n",
       "  </thead>\n",
       "  <tbody>\n",
       "    <tr>\n",
       "      <th>0</th>\n",
       "      <td>A</td>\n",
       "      <td>H4Lvd</td>\n",
       "      <td>NaN</td>\n",
       "      <td>NaN</td>\n",
       "      <td>NaN</td>\n",
       "      <td>NaN</td>\n",
       "      <td>NaN</td>\n",
       "      <td>NaN</td>\n",
       "      <td>NaN</td>\n",
       "      <td>NaN</td>\n",
       "      <td>...</td>\n",
       "      <td>NaN</td>\n",
       "      <td>NaN</td>\n",
       "      <td>NaN</td>\n",
       "      <td>NaN</td>\n",
       "      <td>NaN</td>\n",
       "      <td>NaN</td>\n",
       "      <td>NaN</td>\n",
       "      <td>NaN</td>\n",
       "      <td>DET ART</td>\n",
       "      <td>| article: Indefinite singular article--some o...</td>\n",
       "    </tr>\n",
       "    <tr>\n",
       "      <th>1</th>\n",
       "      <td>ABANDON</td>\n",
       "      <td>H4Lvd</td>\n",
       "      <td>NaN</td>\n",
       "      <td>Negativ</td>\n",
       "      <td>NaN</td>\n",
       "      <td>NaN</td>\n",
       "      <td>Ngtv</td>\n",
       "      <td>NaN</td>\n",
       "      <td>NaN</td>\n",
       "      <td>NaN</td>\n",
       "      <td>...</td>\n",
       "      <td>NaN</td>\n",
       "      <td>NaN</td>\n",
       "      <td>NaN</td>\n",
       "      <td>NaN</td>\n",
       "      <td>NaN</td>\n",
       "      <td>NaN</td>\n",
       "      <td>NaN</td>\n",
       "      <td>NaN</td>\n",
       "      <td>SUPV</td>\n",
       "      <td>|</td>\n",
       "    </tr>\n",
       "    <tr>\n",
       "      <th>2</th>\n",
       "      <td>ABANDONMENT</td>\n",
       "      <td>H4</td>\n",
       "      <td>NaN</td>\n",
       "      <td>Negativ</td>\n",
       "      <td>NaN</td>\n",
       "      <td>NaN</td>\n",
       "      <td>NaN</td>\n",
       "      <td>NaN</td>\n",
       "      <td>NaN</td>\n",
       "      <td>NaN</td>\n",
       "      <td>...</td>\n",
       "      <td>NaN</td>\n",
       "      <td>NaN</td>\n",
       "      <td>NaN</td>\n",
       "      <td>NaN</td>\n",
       "      <td>NaN</td>\n",
       "      <td>NaN</td>\n",
       "      <td>NaN</td>\n",
       "      <td>NaN</td>\n",
       "      <td>Noun</td>\n",
       "      <td>|</td>\n",
       "    </tr>\n",
       "    <tr>\n",
       "      <th>3</th>\n",
       "      <td>ABATE</td>\n",
       "      <td>H4Lvd</td>\n",
       "      <td>NaN</td>\n",
       "      <td>Negativ</td>\n",
       "      <td>NaN</td>\n",
       "      <td>NaN</td>\n",
       "      <td>NaN</td>\n",
       "      <td>NaN</td>\n",
       "      <td>NaN</td>\n",
       "      <td>NaN</td>\n",
       "      <td>...</td>\n",
       "      <td>NaN</td>\n",
       "      <td>NaN</td>\n",
       "      <td>NaN</td>\n",
       "      <td>NaN</td>\n",
       "      <td>NaN</td>\n",
       "      <td>NaN</td>\n",
       "      <td>NaN</td>\n",
       "      <td>NaN</td>\n",
       "      <td>SUPV</td>\n",
       "      <td>|</td>\n",
       "    </tr>\n",
       "    <tr>\n",
       "      <th>4</th>\n",
       "      <td>ABATEMENT</td>\n",
       "      <td>Lvd</td>\n",
       "      <td>NaN</td>\n",
       "      <td>NaN</td>\n",
       "      <td>NaN</td>\n",
       "      <td>NaN</td>\n",
       "      <td>NaN</td>\n",
       "      <td>NaN</td>\n",
       "      <td>NaN</td>\n",
       "      <td>NaN</td>\n",
       "      <td>...</td>\n",
       "      <td>NaN</td>\n",
       "      <td>NaN</td>\n",
       "      <td>NaN</td>\n",
       "      <td>NaN</td>\n",
       "      <td>NaN</td>\n",
       "      <td>NaN</td>\n",
       "      <td>NaN</td>\n",
       "      <td>NaN</td>\n",
       "      <td>Noun</td>\n",
       "      <td>NaN</td>\n",
       "    </tr>\n",
       "  </tbody>\n",
       "</table>\n",
       "<p>5 rows × 186 columns</p>\n",
       "</div>"
      ],
      "text/plain": [
       "         Entry Source Positiv  Negativ Pstv Affil  Ngtv Hostile Strong Power  \\\n",
       "0            A  H4Lvd     NaN      NaN  NaN   NaN   NaN     NaN    NaN   NaN   \n",
       "1      ABANDON  H4Lvd     NaN  Negativ  NaN   NaN  Ngtv     NaN    NaN   NaN   \n",
       "2  ABANDONMENT     H4     NaN  Negativ  NaN   NaN   NaN     NaN    NaN   NaN   \n",
       "3        ABATE  H4Lvd     NaN  Negativ  NaN   NaN   NaN     NaN    NaN   NaN   \n",
       "4    ABATEMENT    Lvd     NaN      NaN  NaN   NaN   NaN     NaN    NaN   NaN   \n",
       "\n",
       "   ... Anomie NegAff PosAff SureLw   If NotLw TimeSpc FormLw  Othtags  \\\n",
       "0  ...    NaN    NaN    NaN    NaN  NaN   NaN     NaN    NaN  DET ART   \n",
       "1  ...    NaN    NaN    NaN    NaN  NaN   NaN     NaN    NaN     SUPV   \n",
       "2  ...    NaN    NaN    NaN    NaN  NaN   NaN     NaN    NaN     Noun   \n",
       "3  ...    NaN    NaN    NaN    NaN  NaN   NaN     NaN    NaN     SUPV   \n",
       "4  ...    NaN    NaN    NaN    NaN  NaN   NaN     NaN    NaN     Noun   \n",
       "\n",
       "                                             Defined  \n",
       "0  | article: Indefinite singular article--some o...  \n",
       "1                                                  |  \n",
       "2                                                  |  \n",
       "3                                                  |  \n",
       "4                                                NaN  \n",
       "\n",
       "[5 rows x 186 columns]"
      ]
     },
     "execution_count": 3,
     "metadata": {},
     "output_type": "execute_result"
    }
   ],
   "source": [
    "#let's read in the spreadsheet, and then save the word lists\n",
    "df = pd.read_excel(pos_neg_file)\n",
    "\n",
    "df.head()"
   ]
  },
  {
   "cell_type": "code",
   "execution_count": 4,
   "metadata": {},
   "outputs": [
    {
     "name": "stdout",
     "output_type": "stream",
     "text": [
      "(11788, 186)\n"
     ]
    }
   ],
   "source": [
    "print(df.shape)"
   ]
  },
  {
   "cell_type": "code",
   "execution_count": 5,
   "metadata": {},
   "outputs": [
    {
     "data": {
      "text/html": [
       "<div>\n",
       "<style scoped>\n",
       "    .dataframe tbody tr th:only-of-type {\n",
       "        vertical-align: middle;\n",
       "    }\n",
       "\n",
       "    .dataframe tbody tr th {\n",
       "        vertical-align: top;\n",
       "    }\n",
       "\n",
       "    .dataframe thead th {\n",
       "        text-align: right;\n",
       "    }\n",
       "</style>\n",
       "<table border=\"1\" class=\"dataframe\">\n",
       "  <thead>\n",
       "    <tr style=\"text-align: right;\">\n",
       "      <th></th>\n",
       "      <th>Entry</th>\n",
       "      <th>Positiv</th>\n",
       "      <th>Negativ</th>\n",
       "      <th>PosAff</th>\n",
       "      <th>NegAff</th>\n",
       "    </tr>\n",
       "  </thead>\n",
       "  <tbody>\n",
       "    <tr>\n",
       "      <th>0</th>\n",
       "      <td>A</td>\n",
       "      <td>NaN</td>\n",
       "      <td>NaN</td>\n",
       "      <td>NaN</td>\n",
       "      <td>NaN</td>\n",
       "    </tr>\n",
       "    <tr>\n",
       "      <th>1</th>\n",
       "      <td>ABANDON</td>\n",
       "      <td>NaN</td>\n",
       "      <td>Negativ</td>\n",
       "      <td>NaN</td>\n",
       "      <td>NaN</td>\n",
       "    </tr>\n",
       "    <tr>\n",
       "      <th>2</th>\n",
       "      <td>ABANDONMENT</td>\n",
       "      <td>NaN</td>\n",
       "      <td>Negativ</td>\n",
       "      <td>NaN</td>\n",
       "      <td>NaN</td>\n",
       "    </tr>\n",
       "    <tr>\n",
       "      <th>3</th>\n",
       "      <td>ABATE</td>\n",
       "      <td>NaN</td>\n",
       "      <td>Negativ</td>\n",
       "      <td>NaN</td>\n",
       "      <td>NaN</td>\n",
       "    </tr>\n",
       "    <tr>\n",
       "      <th>4</th>\n",
       "      <td>ABATEMENT</td>\n",
       "      <td>NaN</td>\n",
       "      <td>NaN</td>\n",
       "      <td>NaN</td>\n",
       "      <td>NaN</td>\n",
       "    </tr>\n",
       "  </tbody>\n",
       "</table>\n",
       "</div>"
      ],
      "text/plain": [
       "         Entry Positiv  Negativ PosAff NegAff\n",
       "0            A     NaN      NaN    NaN    NaN\n",
       "1      ABANDON     NaN  Negativ    NaN    NaN\n",
       "2  ABANDONMENT     NaN  Negativ    NaN    NaN\n",
       "3        ABATE     NaN  Negativ    NaN    NaN\n",
       "4    ABATEMENT     NaN      NaN    NaN    NaN"
      ]
     },
     "execution_count": 5,
     "metadata": {},
     "output_type": "execute_result"
    }
   ],
   "source": [
    "#right now we have all word lists, we need to isolate just the positive and negative words\n",
    "df = df[['Entry', 'Positiv', 'Negativ', 'PosAff', 'NegAff']]\n",
    "\n",
    "df.head()"
   ]
  },
  {
   "cell_type": "code",
   "execution_count": 6,
   "metadata": {},
   "outputs": [],
   "source": [
    "#we need to get rid of nan values, only take explicitly labeled data\n",
    "positive = df['Entry'][df['Positiv']=='Positiv']\n",
    "positive.dropna(inplace=True)\n",
    "\n",
    "negative = df['Entry'][df['Negativ']=='Negativ']\n",
    "negative.dropna(inplace=True)\n",
    "\n",
    "pos_aff = df['Entry'][df['PosAff']=='PosAff']\n",
    "pos_aff.dropna(inplace=True)\n",
    "\n",
    "neg_aff = df['Entry'][df['NegAff']=='NegAff']\n",
    "neg_aff.dropna(inplace=True)\n",
    "\n",
    "#we should also convert each word list to lowercase\n",
    "#and the pandas series object to a list\n",
    "positive = positive.str.lower().tolist()\n",
    "negative = negative.str.lower().tolist()\n",
    "pos_aff = pos_aff.str.lower().tolist()\n",
    "neg_aff = neg_aff.str.lower().tolist()"
   ]
  },
  {
   "cell_type": "code",
   "execution_count": 7,
   "metadata": {},
   "outputs": [
    {
     "name": "stdout",
     "output_type": "stream",
     "text": [
      "There are 1915 positive words in the positive word list.\n",
      "There are 2291 negative words in the negative word list. \n",
      "\n",
      "There are 126 positive words in the positive affect word list.\n",
      "There are 193 negative words in the negative affect word list. \n",
      "\n"
     ]
    }
   ],
   "source": [
    "#let's check the shapes\n",
    "#according to the website, there are 1915 pos, 2291 neg\n",
    "len_pos = len(positive)\n",
    "len_neg = len(negative)\n",
    "\n",
    "print('There are {} positive words in the positive word list.'.format(len_pos))\n",
    "print('There are {} negative words in the negative word list.'.format(len_neg), '\\n')\n",
    "\n",
    "#and there should be 126 pos_aff, 193 neg_aff words\n",
    "print('There are {} positive words in the positive affect word list.'.format(len(pos_aff)))\n",
    "print('There are {} negative words in the negative affect word list.'.format(len(neg_aff)), '\\n')"
   ]
  },
  {
   "cell_type": "code",
   "execution_count": 8,
   "metadata": {},
   "outputs": [
    {
     "name": "stdout",
     "output_type": "stream",
     "text": [
      "['abide', 'ability', 'able', 'abound', 'absolve'] \n",
      "\n",
      "['abandon', 'abandonment', 'abate', 'abdicate', 'abhor']\n"
     ]
    }
   ],
   "source": [
    "#look at first five words of each list\n",
    "print(positive[:5], '\\n')\n",
    "print(negative[:5])"
   ]
  },
  {
   "cell_type": "code",
   "execution_count": 9,
   "metadata": {},
   "outputs": [],
   "source": [
    "#we can combine the word list for positive and pos_aff, \n",
    "#and do the same thing for negative and neg_aff\n",
    "positive.extend(pos_aff)\n",
    "negative.extend(neg_aff)\n",
    "\n",
    "#now convert to a set to remove any duplicates\n",
    "positive = list(set(positive))\n",
    "negative = list(set(negative))"
   ]
  },
  {
   "cell_type": "code",
   "execution_count": 10,
   "metadata": {},
   "outputs": [
    {
     "name": "stdout",
     "output_type": "stream",
     "text": [
      "There are 24 more positive words in the positive word list now.\n",
      "There are 27 more negative words in the negative word list now. \n",
      "\n"
     ]
    }
   ],
   "source": [
    "print('There are {} more positive words in the positive word list now.'.format(len(positive) - len_pos))\n",
    "print('There are {} more negative words in the negative word list now.'.format(len(negative) - len_neg), '\\n')"
   ]
  },
  {
   "cell_type": "markdown",
   "metadata": {},
   "source": [
    "It looks like we aquired a few more words in the negative category. Now let's check for common positive and negative words."
   ]
  },
  {
   "cell_type": "code",
   "execution_count": 11,
   "metadata": {},
   "outputs": [
    {
     "name": "stdout",
     "output_type": "stream",
     "text": [
      "False\n",
      "False\n",
      "False\n",
      "False\n",
      "True \n",
      "\n",
      "True\n",
      "True\n",
      "True\n",
      "False\n",
      "False\n",
      "False\n",
      "False\n"
     ]
    }
   ],
   "source": [
    "#check for common positive words\n",
    "print('good' in positive)\n",
    "print('great' in positive)\n",
    "print('happy' in positive)\n",
    "print('love' in positive)\n",
    "print('excellent' in positive, '\\n')\n",
    "\n",
    "#check for common negative words\n",
    "print('bad' in negative)\n",
    "print('terrible' in negative)\n",
    "print('sad' in negative)\n",
    "print('depressed' in negative)\n",
    "print('tired' in negative)\n",
    "print('bored' in negative)\n",
    "print('alone' in negative)"
   ]
  },
  {
   "cell_type": "code",
   "execution_count": 12,
   "metadata": {},
   "outputs": [],
   "source": [
    "#let's add in good, great, love, happy, and like\n",
    "positive.append('good')\n",
    "positive.append('great')\n",
    "positive.append('love')\n",
    "positive.append('happy')\n",
    "positive.append('like')\n",
    "\n",
    "#and now depressed, tired, bored, alone, plus some others\n",
    "negative.append('depressed')\n",
    "negative.append('tired')\n",
    "negative.append('bored')\n",
    "negative.append('alone')\n",
    "negative.append('annoying')\n",
    "negative.append('irritate')\n",
    "negative.append('irritated')\n",
    "negative.append('bother')\n",
    "negative.append('bothered')"
   ]
  },
  {
   "cell_type": "markdown",
   "metadata": {},
   "source": [
    "### Create positive and negative count columns\n",
    "\n",
    "For this analysis, I am choosing to create a total count of positive and negative words used by each participant. Another notebook has shown that a frequency based apporach (with large, sparse vectors) did not work well in predicting PHQ-8 scores. Thus, I am trying to create my own feature that I can hopefully distinguish either binary or high and low raw scores from each other."
   ]
  },
  {
   "cell_type": "code",
   "execution_count": 13,
   "metadata": {},
   "outputs": [],
   "source": [
    "change_dir = os.chdir(with_i_text_dir)\n",
    "\n",
    "#get current working directory\n",
    "this_dir = os.getcwd()\n",
    "filenames = os.listdir(this_dir)\n",
    "\n",
    "#sort filenames for sorting vectors\n",
    "filenames = sorted(filenames)\n",
    "\n",
    "#we need the participant numbers to create TaggedDocument\n",
    "participant_nums = []\n",
    "\n",
    "#document list for inspection later on\n",
    "docs = []\n",
    "\n",
    "#positive and negative word counts lists\n",
    "pos, neg = [], []\n",
    "pos_freq, neg_freq = [], []"
   ]
  },
  {
   "cell_type": "code",
   "execution_count": 14,
   "metadata": {},
   "outputs": [],
   "source": [
    "#need to iterate through documents\n",
    "#create a list of *strings*, each one containing the transcript of a participant\n",
    "for filename in filenames:\n",
    "    if filename.endswith('.txt'):\n",
    "        #read in file contents\n",
    "        file = open(filename, 'rt')\n",
    "        text = file.read()\n",
    "        file.close()\n",
    "        \n",
    "        participant_nums.append(int(filename[:3]))\n",
    "        \n",
    "        #whitespace tokenize\n",
    "        tokens = tokenize(text)\n",
    "        \n",
    "        #append tokens to document list\n",
    "        docs.append(tokens)\n",
    "        \n",
    "        #count positive words unions\n",
    "        pos_in_tokens = list(set(positive) & set(tokens))\n",
    "        pos.append(len(pos_in_tokens))\n",
    "        \n",
    "        #do the same for negative words\n",
    "        neg_in_tokens = list(set(negative) & set(tokens))\n",
    "        neg.append(len(neg_in_tokens))\n",
    "        \n",
    "        #now let's look at positive and negative word *frequency*, not count\n",
    "        count_pos = 0\n",
    "        count_neg = 0\n",
    "        for word in tokens:\n",
    "            if word in pos_in_tokens:\n",
    "                count_pos += 1\n",
    "            if word in neg_in_tokens:\n",
    "                count_neg += 1\n",
    "                \n",
    "        pos_freq.append(count_pos)\n",
    "        neg_freq.append(count_neg)"
   ]
  },
  {
   "cell_type": "code",
   "execution_count": 15,
   "metadata": {},
   "outputs": [
    {
     "name": "stdout",
     "output_type": "stream",
     "text": [
      "['okay', 'outgoing', 'assistant', 'accomplish', 'creative', 'accomplishment', 'good', 'able', 'like', 'friend', 'memorable', 'best', 'positive', 'great', 'love', 'law', 'happy'] \n",
      "\n",
      "['prod', 'horrible', 'negative', 'difficult', 'shove', 'annoy', 'dull', 'problem', 'provoke', 'alone', 'angry', 'bad']\n"
     ]
    }
   ],
   "source": [
    "#check out what an example of the above set-union method yields\n",
    "print(list(set(docs[1]) & set(positive)), '\\n')\n",
    "print(list(set(docs[1]) & set(negative)))"
   ]
  },
  {
   "cell_type": "code",
   "execution_count": 16,
   "metadata": {},
   "outputs": [],
   "source": [
    "#now let's create a dataframe object and save it as a csv\n",
    "dataframe = pd.DataFrame({'part_num':participant_nums,\n",
    "                         'num_pos':pos,\n",
    "                         'num_neg':neg, \n",
    "                         'pos_freq':pos_freq,\n",
    "                         'neg_freq':neg_freq})"
   ]
  },
  {
   "cell_type": "code",
   "execution_count": 18,
   "metadata": {},
   "outputs": [],
   "source": [
    "#change to main directory, save as a csv\n",
    "os.chdir('../../')\n",
    "dataframe.to_csv('pos_neg_counts.csv')"
   ]
  },
  {
   "cell_type": "code",
   "execution_count": null,
   "metadata": {},
   "outputs": [],
   "source": []
  }
 ],
 "metadata": {
  "kernelspec": {
   "display_name": "Python 3",
   "language": "python",
   "name": "python3"
  },
  "language_info": {
   "codemirror_mode": {
    "name": "ipython",
    "version": 3
   },
   "file_extension": ".py",
   "mimetype": "text/x-python",
   "name": "python",
   "nbconvert_exporter": "python",
   "pygments_lexer": "ipython3",
   "version": "3.6.8"
  }
 },
 "nbformat": 4,
 "nbformat_minor": 2
}
