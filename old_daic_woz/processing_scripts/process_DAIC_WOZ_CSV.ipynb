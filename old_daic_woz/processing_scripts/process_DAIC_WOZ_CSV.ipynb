{
 "cells": [
  {
   "cell_type": "markdown",
   "metadata": {},
   "source": [
    "\n",
    "Author: Jakidxav\n",
    "Date: 03.28.2019\n",
    "\n",
    "Process a DAIC_WOZ transcript, convert the CSV file to a .txt file\n",
    "\n",
    "The script depends on the following stardardized input format:\n",
    "\n",
    "Columns: start_time, stop_time, speaker, value\n",
    "- start_time, stop_time: these should correspond to only one speaker\n",
    "- speaker: labelled \"Ellie\" and \"Participant\", although the only one that matters for processing is \"Participant\"\n",
    "- value: this column **must** be labelled value"
   ]
  },
  {
   "cell_type": "code",
   "execution_count": 1,
   "metadata": {},
   "outputs": [],
   "source": [
    "import csv\n",
    "import pandas as pd\n",
    "import numpy as np\n",
    "import os"
   ]
  },
  {
   "cell_type": "code",
   "execution_count": 2,
   "metadata": {},
   "outputs": [],
   "source": [
    "first_dir = './CSV_original/'\n",
    "change_dir = '../../CSV_original/'\n",
    "\n",
    "part_dir = '../Part/raw/'\n",
    "ellie_dir = '../ellie/raw/'"
   ]
  },
  {
   "cell_type": "code",
   "execution_count": 3,
   "metadata": {},
   "outputs": [],
   "source": [
    "#make sure directories exist; if not, create them\n",
    "if os.path.isdir(part_dir) == False:\n",
    "    os.makedirs(part_dir)\n",
    "\n",
    "if os.path.isdir(ellie_dir) == False:\n",
    "    os.makedirs(ellie_dir)\n",
    "\n",
    "#boolean for rerouting output: participant = True for participant only, participant = False for full transcript\n",
    "participant = False\n",
    "\n",
    "#change to correct directory to start\n",
    "os.chdir(first_dir)\n",
    "this_dir = os.getcwd()"
   ]
  },
  {
   "cell_type": "code",
   "execution_count": 4,
   "metadata": {},
   "outputs": [],
   "source": [
    "for subdir, dirs, files in os.walk(this_dir):\n",
    "    for file in files:\n",
    "        if file.endswith('.csv'):\n",
    "            #NOTE: the filename should be constructed as 'num_TRANSCRIPT.csv'\n",
    "            #save output file as the original name, but as a text file\n",
    "            out_file_part = file.replace('.csv', '_part_raw.txt')      #participant only\n",
    "            out_file_ellie = file.replace('.csv', '_ellie_raw.txt')      #full transcript\n",
    "\n",
    "            #read in the CSV file as a dataframe, tab delimited\n",
    "            df = pd.read_csv(file, delimiter='\\t')\n",
    "\n",
    "            #only select the rows that correspond to the participant's speech or select full transcript\n",
    "            if participant == True:\n",
    "                df = df[df.speaker=='Participant']\n",
    "            else:\n",
    "                #else do nothing\n",
    "                df = df\n",
    "\n",
    "            #discard all columns but the participant's speech, save as .txt file\n",
    "\n",
    "            if participant == True:\n",
    "                os.chdir(part_dir)\n",
    "                #np.savetxt(out_file_part, df.value.values, fmt=['%s'])\n",
    "            else:\n",
    "                os.chdir(ellie_dir)\n",
    "                np.savetxt(out_file_ellie, df.value.values, fmt=['%s'])\n",
    "\n",
    "            #change back to input directory\n",
    "            os.chdir(change_dir)\n",
    "            this_dir = os.getcwd()"
   ]
  },
  {
   "cell_type": "code",
   "execution_count": null,
   "metadata": {},
   "outputs": [],
   "source": []
  }
 ],
 "metadata": {
  "kernelspec": {
   "display_name": "Python 3",
   "language": "python",
   "name": "python3"
  },
  "language_info": {
   "codemirror_mode": {
    "name": "ipython",
    "version": 3
   },
   "file_extension": ".py",
   "mimetype": "text/x-python",
   "name": "python",
   "nbconvert_exporter": "python",
   "pygments_lexer": "ipython3",
   "version": "3.6.8"
  }
 },
 "nbformat": 4,
 "nbformat_minor": 2
}
