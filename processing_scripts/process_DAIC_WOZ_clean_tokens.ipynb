{
 "cells": [
  {
   "cell_type": "code",
   "execution_count": 1,
   "metadata": {},
   "outputs": [],
   "source": [
    "\"\"\"\n",
    "Author: Jakidxav\n",
    "Date: 04.10.2019\n",
    "\n",
    "Process DAIC_WOZ text files:\n",
    "-tokenize by word\n",
    "-remove semantic information\n",
    "-split contractions for removal\n",
    "-remove punctuation\n",
    "-remove stop words\n",
    "-remove non-alphabetic characters\n",
    "\n",
    "The script depends on the following stardardized input format:\n",
    "Each document should end in .txt\n",
    "\"\"\"\n",
    "\n",
    "import csv\n",
    "import pandas as pd\n",
    "import numpy as np\n",
    "import os\n",
    "\n",
    "from clean_text import *"
   ]
  },
  {
   "cell_type": "code",
   "execution_count": 2,
   "metadata": {},
   "outputs": [],
   "source": [
    "#directory declarations\n",
    "part_dir_raw = './Part/raw/'\n",
    "part_dir = './Part/clean_tokens/'\n",
    "\n",
    "#create directory for saving output\n",
    "change_dir_clean = '../clean_tokens'\n",
    "change_dir_raw = '../raw'\n",
    "\n",
    "#make sure directories exist; if not, create them\n",
    "#if os.path.isdir(part_dir) == False:\n",
    "    #os.makedirs(part_dir)\n",
    "\n",
    "\n",
    "#change to correct directory\n",
    "os.chdir(part_dir_raw)\n",
    "this_dir = os.getcwd()"
   ]
  },
  {
   "cell_type": "code",
   "execution_count": 3,
   "metadata": {},
   "outputs": [],
   "source": [
    "for subdirs, dirs, files in os.walk(this_dir):\n",
    "    for filename in files:\n",
    "        if filename.endswith('.txt'):\n",
    "            file = open(filename, 'rt')\n",
    "            text = file.read()\n",
    "            file.close()\n",
    "                        \n",
    "            #rename file for saving output\n",
    "            filename = '/' + filename\n",
    "            out_filename = filename.replace('_raw.txt', '_cleaned_with_i.txt')\n",
    "            \n",
    "            #PROCESS TEXT\n",
    "            #whitespace tokenize\n",
    "            tokens = tokenize(text)\n",
    "            \n",
    "            #take out semantic information\n",
    "            no_semantics = remove_semantics(tokens)\n",
    "\n",
    "            #convert back to string to split apart contractions\n",
    "            l2s = list_to_string(no_semantics)\n",
    "            \n",
    "            #split contractions AFTER removing semantic information\n",
    "            split = split_contractions(l2s)\n",
    "\n",
    "            #strip punctuation\n",
    "            no_punct = strip_punctuation(split)\n",
    "\n",
    "            #remove stopwords\n",
    "            no_stops = remove_stopwords(no_punct)\n",
    "\n",
    "            #remove numbers from tokens\n",
    "            words = remove_numbers(no_stops)\n",
    "\n",
    "            #change to output directory\n",
    "            os.chdir(change_dir_clean)\n",
    "            this_dir = os.getcwd()\n",
    "            \n",
    "            #save processed output\n",
    "            with open(this_dir+out_filename, \"w\") as f:\n",
    "                for token in words:\n",
    "                    f.write(token + \"\\n\")\n",
    "            \n",
    "            #change back to input directory\n",
    "            os.chdir(change_dir_raw)\n",
    "            this_dir = os.getcwd()"
   ]
  },
  {
   "cell_type": "code",
   "execution_count": null,
   "metadata": {},
   "outputs": [],
   "source": []
  }
 ],
 "metadata": {
  "kernelspec": {
   "display_name": "Python 3",
   "language": "python",
   "name": "python3"
  },
  "language_info": {
   "codemirror_mode": {
    "name": "ipython",
    "version": 3
   },
   "file_extension": ".py",
   "mimetype": "text/x-python",
   "name": "python",
   "nbconvert_exporter": "python",
   "pygments_lexer": "ipython3",
   "version": "3.7.0"
  }
 },
 "nbformat": 4,
 "nbformat_minor": 2
}
