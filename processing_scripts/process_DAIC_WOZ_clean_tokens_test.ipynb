{
 "cells": [
  {
   "cell_type": "code",
   "execution_count": 1,
   "metadata": {},
   "outputs": [],
   "source": [
    "\"\"\"\n",
    "Author: Joshua Driscol\n",
    "Date: 04.10.2019\n",
    "\n",
    "Process DAIC_WOZ text files:\n",
    "-tokenize by word\n",
    "-remove semantic information\n",
    "-remove punctuation\n",
    "-convert to lower case\n",
    "-remove stop words\n",
    "-remove non-alphabetic characters\n",
    "\n",
    "The script depends on the following stardardized input format:\n",
    "Each document should end in .txt\n",
    "\"\"\"\n",
    "\n",
    "import csv\n",
    "import pandas as pd\n",
    "import numpy as np\n",
    "import os\n",
    "\n",
    "import string\n",
    "\n",
    "from clean_text import *"
   ]
  },
  {
   "cell_type": "code",
   "execution_count": 2,
   "metadata": {},
   "outputs": [],
   "source": [
    "#directory declarations\n",
    "part_dir_raw = './Part/raw/'\n",
    "part_dir = './Part/clean_tokens/'\n",
    "\n",
    "#create directory for saving output\n",
    "change_dir_clean = '../clean_tokens'\n",
    "change_dir_raw = '../raw'\n",
    "\n",
    "#make sure directories exist; if not, create them\n",
    "if os.path.isdir(part_dir) == False:\n",
    "    os.makedirs(part_dir)\n",
    "\n",
    "\n",
    "#change to correct directory\n",
    "os.chdir(part_dir_raw)\n",
    "this_dir = os.getcwd()"
   ]
  },
  {
   "cell_type": "code",
   "execution_count": 4,
   "metadata": {},
   "outputs": [],
   "source": [
    "in_filename = '/300_TRANSCRIPT_part_raw.txt'\n",
    "out_filename = in_filename.replace('_raw.txt', '_cleaned.txt')"
   ]
  },
  {
   "cell_type": "code",
   "execution_count": 6,
   "metadata": {},
   "outputs": [],
   "source": [
    "file = open(this_dir+in_filename, 'rt')\n",
    "text = file.read()\n",
    "file.close()"
   ]
  },
  {
   "cell_type": "code",
   "execution_count": 7,
   "metadata": {},
   "outputs": [],
   "source": [
    "#whitespace tokenize, **preserve contractions**\n",
    "tokens = tokenize(text)\n",
    "\n",
    "#take out semantic information\n",
    "no_semantics = remove_semantics(tokens)\n",
    "\n",
    "#strip punctuation\n",
    "no_punct = strip_punctuation(no_semantics)\n",
    "\n",
    "#convert to lowercase\n",
    "lower = lower_case(no_punct)\n",
    "\n",
    "#remove stopwords\n",
    "no_stops = remove_stopwords(lower)\n",
    "\n",
    "#remove numbers from tokens\n",
    "words = remove_numbers(no_stops)"
   ]
  },
  {
   "cell_type": "code",
   "execution_count": 15,
   "metadata": {},
   "outputs": [
    {
     "name": "stdout",
     "output_type": "stream",
     "text": [
      "/home/jakidxav/Desktop/digipsych/data/DAIC_WOZ/Transcripts/Part/clean_tokens\n"
     ]
    }
   ],
   "source": [
    "os.chdir(change_dir_clean)\n",
    "this_dir = os.getcwd()\n",
    "print(this_dir)"
   ]
  },
  {
   "cell_type": "code",
   "execution_count": 30,
   "metadata": {},
   "outputs": [],
   "source": [
    "with open(this_dir+out_filename, \"w\") as f:\n",
    "    for token in words:\n",
    "        f.write(token + \"\\n\")"
   ]
  },
  {
   "cell_type": "code",
   "execution_count": 32,
   "metadata": {},
   "outputs": [],
   "source": [
    "os.chdir(change_dir_raw)\n",
    "this_dir = os.getcwd()"
   ]
  },
  {
   "cell_type": "code",
   "execution_count": null,
   "metadata": {},
   "outputs": [],
   "source": []
  }
 ],
 "metadata": {
  "kernelspec": {
   "display_name": "Python 3",
   "language": "python",
   "name": "python3"
  },
  "language_info": {
   "codemirror_mode": {
    "name": "ipython",
    "version": 3
   },
   "file_extension": ".py",
   "mimetype": "text/x-python",
   "name": "python",
   "nbconvert_exporter": "python",
   "pygments_lexer": "ipython3",
   "version": "3.7.0"
  }
 },
 "nbformat": 4,
 "nbformat_minor": 2
}
