{
 "cells": [
  {
   "cell_type": "code",
   "execution_count": 1,
   "metadata": {},
   "outputs": [],
   "source": [
    "import csv\n",
    "import pandas as pd\n",
    "import numpy as np\n",
    "import os\n",
    "\n",
    "from clean_text import *\n",
    "\n",
    "from sklearn.feature_extraction.text import CountVectorizer"
   ]
  },
  {
   "cell_type": "code",
   "execution_count": 2,
   "metadata": {},
   "outputs": [],
   "source": [
    "#change directory\n",
    "raw_text_dir = './Part/raw/'\n",
    "clean_text_dir = './Part/clean_tokens'\n",
    "change_dir = os.chdir(raw_text_dir)\n",
    "\n",
    "#get current working directory\n",
    "this_dir = os.getcwd()\n",
    "filenames = os.listdir(this_dir)\n",
    "\n",
    "#sort filenames for sorting vectors\n",
    "filenames = sorted(filenames)\n",
    "\n",
    "#list to append each transcript to\n",
    "docs = []"
   ]
  },
  {
   "cell_type": "code",
   "execution_count": 3,
   "metadata": {},
   "outputs": [],
   "source": [
    "#need to iterate through documents\n",
    "#create a list of *strings*, each one containing the transcript of a participant\n",
    "for filename in filenames:\n",
    "    if filename.endswith('.txt'):\n",
    "        #print(filename, filename[:3])\n",
    "        #read in file contents\n",
    "        file = open(filename, 'rt')\n",
    "        text = file.read()\n",
    "        file.close()\n",
    "        \n",
    "        #if processing raw data, do the following two steps\n",
    "        if this_dir.endswith('raw'):\n",
    "            #whitespace tokenize\n",
    "            tokens = tokenize(text)\n",
    "        \n",
    "            #convert back to string\n",
    "            l2s = list_to_string(tokens)\n",
    "        \n",
    "        #else process cleaned data, replace linebreaks with spaces\n",
    "        else:\n",
    "            l2s = text.replace('\\n', ' ')\n",
    "            \n",
    "        #append each transcript to docs list and use CountVectorizer\n",
    "        docs.append(l2s)"
   ]
  },
  {
   "cell_type": "code",
   "execution_count": 4,
   "metadata": {},
   "outputs": [],
   "source": [
    "#instantiate our vectorizer\n",
    "vectorizer = CountVectorizer()\n",
    "\n",
    "#fit to our list of transcripts, learn vocabulary\n",
    "#now we can use our vectorizer to generate vectors for each document\n",
    "vectors = vectorizer.fit_transform(docs)\n",
    "\n",
    "#save vocabulary\n",
    "vocab = vectorizer.vocabulary_"
   ]
  },
  {
   "cell_type": "code",
   "execution_count": 5,
   "metadata": {},
   "outputs": [
    {
     "name": "stdout",
     "output_type": "stream",
     "text": [
      "8369\n",
      "(189, 8369)\n"
     ]
    }
   ],
   "source": [
    "print(len(vocab))\n",
    "print(np.shape(vectors))"
   ]
  },
  {
   "cell_type": "code",
   "execution_count": 6,
   "metadata": {},
   "outputs": [],
   "source": [
    "#Check to see whether the first vector in vectors is the same as testfile\n",
    "test_file = [docs[0]]\n",
    "\n",
    "test_vec1 = vectorizer.transform(test_file).toarray()[0]\n",
    "\n",
    "test_vec2 = vectors[0, :]"
   ]
  },
  {
   "cell_type": "code",
   "execution_count": 7,
   "metadata": {},
   "outputs": [
    {
     "name": "stdout",
     "output_type": "stream",
     "text": [
      "(8369,)\n",
      "(1, 8369)\n"
     ]
    }
   ],
   "source": [
    "print(test_vec1.shape)\n",
    "print(test_vec2.shape)"
   ]
  },
  {
   "cell_type": "code",
   "execution_count": 8,
   "metadata": {},
   "outputs": [
    {
     "data": {
      "text/plain": [
       "True"
      ]
     },
     "execution_count": 8,
     "metadata": {},
     "output_type": "execute_result"
    }
   ],
   "source": [
    "#test to see whether our two vectors are equal\n",
    "(test_vec1==test_vec2).all()"
   ]
  },
  {
   "cell_type": "code",
   "execution_count": 9,
   "metadata": {},
   "outputs": [],
   "source": [
    "#save array to load for training\n",
    "#np.save('X_raw.npy', vectors)\n",
    "#np.save('X_cleaned.npy', vectors)"
   ]
  },
  {
   "cell_type": "code",
   "execution_count": null,
   "metadata": {},
   "outputs": [],
   "source": []
  }
 ],
 "metadata": {
  "kernelspec": {
   "display_name": "Python 3",
   "language": "python",
   "name": "python3"
  },
  "language_info": {
   "codemirror_mode": {
    "name": "ipython",
    "version": 3
   },
   "file_extension": ".py",
   "mimetype": "text/x-python",
   "name": "python",
   "nbconvert_exporter": "python",
   "pygments_lexer": "ipython3",
   "version": "3.7.0"
  }
 },
 "nbformat": 4,
 "nbformat_minor": 2
}
