{
 "cells": [
  {
   "cell_type": "code",
   "execution_count": 1,
   "metadata": {},
   "outputs": [],
   "source": [
    "import pandas as pd\n",
    "import numpy as np\n",
    "from numpy.linalg import svd , eig, inv\n",
    "\n",
    "import matplotlib.pyplot as plt\n",
    "%matplotlib inline\n",
    "import seaborn as sns\n",
    "sns.set_style(\"darkgrid\")\n",
    "\n",
    "from sklearn.model_selection import train_test_split, StratifiedKFold\n",
    "\n",
    "from sklearn.metrics import mean_squared_error, r2_score\n",
    "\n",
    "from sklearn.svm import SVR\n",
    "from sklearn.linear_model import LinearRegression, Ridge, SGDRegressor"
   ]
  },
  {
   "cell_type": "code",
   "execution_count": 2,
   "metadata": {},
   "outputs": [],
   "source": [
    "#files on disk\n",
    "scores_file = 'full_dataset.csv'\n",
    "vector_file_i = 'X_i_doc2vec.npy'\n",
    "vector_file_i_10 = 'X_i_doc2vec_10.npy'\n",
    "\n",
    "#load files\n",
    "df = pd.read_csv(scores_file, index_col=0)\n",
    "\n",
    "X_i = np.load(vector_file_i)\n",
    "X_i_10 = np.load(vector_file_i_10)\n",
    "\n",
    "y = df['PHQ8_Binary'].values\n",
    "y2 = df['PHQ8_Score'].values"
   ]
  },
  {
   "cell_type": "code",
   "execution_count": 3,
   "metadata": {},
   "outputs": [
    {
     "name": "stdout",
     "output_type": "stream",
     "text": [
      "(189,)\n",
      "(189, 100)\n",
      "(189, 10)\n"
     ]
    }
   ],
   "source": [
    "print(y.shape)\n",
    "print(X_i.shape)\n",
    "print(X_i_10.shape)"
   ]
  },
  {
   "cell_type": "code",
   "execution_count": 25,
   "metadata": {},
   "outputs": [],
   "source": [
    "#let's create a copy of the raw scores\n",
    "y_bins = df['PHQ8_Score'].copy(deep=True)\n",
    "\n",
    "#start binning\n",
    "y_bins[y_bins <= 4] = 0\n",
    "y_bins[np.logical_and(y_bins > 4, y_bins < 10)] = 5\n",
    "y_bins[np.logical_and(y_bins > 10, y_bins < 15)] = 10\n",
    "y_bins[np.logical_and(y_bins > 15, y_bins <= 25)] = 15\n",
    "#y_bins[y_bins >= 20] = 20"
   ]
  },
  {
   "cell_type": "markdown",
   "metadata": {},
   "source": [
    "### EDA"
   ]
  },
  {
   "cell_type": "code",
   "execution_count": 26,
   "metadata": {},
   "outputs": [
    {
     "data": {
      "image/png": "[encoded data removed]",
      "text/plain": [
       "<Figure size 864x432 with 2 Axes>"
      ]
     },
     "metadata": {
      "needs_background": "light"
     },
     "output_type": "display_data"
    }
   ],
   "source": [
    "fig, ax = plt.subplots(1, 2, figsize=(12, 6))\n",
    "ax[0].hist(df['PHQ8_Score'], bins=24)\n",
    "ax[0].set_title('Raw PHQ8 Distribution Scores')\n",
    "\n",
    "ax[1].hist(y_bins)\n",
    "ax[1].set_title('Binned PHQ8 Distribution Scores')\n",
    "\n",
    "plt.show()"
   ]
  },
  {
   "cell_type": "markdown",
   "metadata": {},
   "source": [
    "### Training, Binned Regression"
   ]
  },
  {
   "cell_type": "markdown",
   "metadata": {},
   "source": [
    "Null Hypothesis, H0: there is no difference in the word embeddings created using the transcripts of those who report high feelings of depression and those that don't\n",
    "\n",
    "Alternative Hypothesis, H1: There is a difference."
   ]
  },
  {
   "cell_type": "code",
   "execution_count": 27,
   "metadata": {},
   "outputs": [],
   "source": [
    "\"\"\"\n",
    "regress_and_report() creates lists for root mean squared error and r2 score.\n",
    "Given a sklearn model, the X and y data sets, it creates stratified k-fold training and test sets.\n",
    "The model is trained, and then metrics are reported and all lists are returned for further analysis.\n",
    "\"\"\"\n",
    "def regress_and_report(model, X, y, num):\n",
    "    \n",
    "    #for reporting metrics\n",
    "    mse, r2 = [], []\n",
    "\n",
    "    #for confusion matrix\n",
    "    predictions = []\n",
    "    ytest = []\n",
    "\n",
    "    #create splits here\n",
    "    skf = StratifiedKFold(n_splits=num)\n",
    "    skf.get_n_splits(X, y)\n",
    "\n",
    "    #loop over n splits\n",
    "    for train_idx, test_idx in skf.split(X, y):\n",
    "        #get subsets of data\n",
    "        X_train, X_test = X[train_idx], X[test_idx]\n",
    "        y_train, y_test = y[train_idx], y[test_idx]\n",
    "    \n",
    "        ytest.append(y_test)\n",
    "    \n",
    "        #fit and predict on training and test data\n",
    "        preds = model.fit(X_train, y_train).predict(X_test)\n",
    "        predictions.append(preds)\n",
    "    \n",
    "        #calculate scores and append to lists\n",
    "        mse_ = mean_squared_error(y_test, preds)\n",
    "        mse.append(mse_)\n",
    "    \n",
    "        r2_ = r2_score(y_test, preds)\n",
    "        r2.append(r2_)\n",
    "        \n",
    "    \n",
    "    rmse = np.sqrt(mse)\n",
    "    \n",
    "    report_metrics_regress(rmse, r2)\n",
    "        \n",
    "    return rmse, r2, ytest, predictions"
   ]
  },
  {
   "cell_type": "code",
   "execution_count": 28,
   "metadata": {},
   "outputs": [],
   "source": [
    "\"\"\"\n",
    "This helper method takes in lists of root mean squared error and r2 score\n",
    "It then outputs the mean score for each list.\n",
    "\"\"\"\n",
    "def report_metrics_regress(rmse, r2):\n",
    "    #calculate means of scores for reporting\n",
    "    mean_rmse = np.round(np.mean(rmse), 4)\n",
    "    mean_r2 = np.round(np.mean(r2), 4)\n",
    "    \n",
    "    print('Mean rmse score: ', mean_rmse)\n",
    "    print('Mean r2 score: ', mean_r2)"
   ]
  },
  {
   "cell_type": "code",
   "execution_count": 29,
   "metadata": {},
   "outputs": [],
   "source": [
    "\"\"\"\n",
    "Plot root mean squared error and r2 score score across k-splits to see how they vary.\n",
    "\"\"\"\n",
    "def plot_metrics_regress(rmse):\n",
    "    plt.plot(rmse, label='rmse', color='r')\n",
    "\n",
    "    plt.legend(bbox_to_anchor=(1.05, 1), loc=2, borderaxespad=0.)\n",
    "    plt.title('How Regression Metrics Vary Across Stratified Splits')\n",
    "    \n",
    "    plt.xlabel('Split Number K')\n",
    "    plt.ylabel('Root Mean Squared Error')\n",
    "\n",
    "    plt.show()"
   ]
  },
  {
   "cell_type": "code",
   "execution_count": 30,
   "metadata": {},
   "outputs": [],
   "source": [
    "#define regression models\n",
    "num = 10\n",
    "\n",
    "lr = LinearRegression()\n",
    "sgd = SGDRegressor(max_iter=100, tol=1e-3)\n",
    "forest = RandomForestRegressor(n_estimators=10)\n",
    "ridge = Ridge()"
   ]
  },
  {
   "cell_type": "code",
   "execution_count": 31,
   "metadata": {},
   "outputs": [
    {
     "name": "stdout",
     "output_type": "stream",
     "text": [
      "Mean rmse score:  5.4007\n",
      "Mean r2 score:  0.0101\n"
     ]
    }
   ],
   "source": [
    "rmse, r2, ytest, preds = regress_and_report(ridge, X_i, y_bins, num)"
   ]
  },
  {
   "cell_type": "code",
   "execution_count": 32,
   "metadata": {},
   "outputs": [
    {
     "data": {
      "image/png": "[encoded data removed]",
      "text/plain": [
       "<Figure size 432x288 with 1 Axes>"
      ]
     },
     "metadata": {
      "needs_background": "light"
     },
     "output_type": "display_data"
    }
   ],
   "source": [
    "plot_metrics_regress(rmse)\n",
    "\n",
    "#plt.savefig('metrics_regression_ridge.pdf', format='pdf', bbox_inches='tight')"
   ]
  },
  {
   "cell_type": "code",
   "execution_count": 33,
   "metadata": {},
   "outputs": [
    {
     "name": "stdout",
     "output_type": "stream",
     "text": [
      "109    10\n",
      "110    10\n",
      "115    10\n",
      "150    15\n",
      "155     5\n",
      "156    15\n",
      "158     5\n",
      "162     5\n",
      "167     0\n",
      "168     0\n",
      "169     0\n",
      "170     0\n",
      "171     5\n",
      "172     0\n",
      "173     0\n",
      "174     0\n",
      "176     0\n",
      "Name: PHQ8_Score, dtype: int64 \n",
      "\n",
      "[3.6187782 5.078417  4.0744333 4.369213  5.048277  4.1560106 6.0424747\n",
      " 6.7343187 3.48639   4.245633  3.6939483 3.5265949 3.8907814 3.9468882\n",
      " 3.9652941 5.1441965 4.1530085]\n"
     ]
    }
   ],
   "source": [
    "print(ytest[-2], '\\n')\n",
    "print(preds[-2])"
   ]
  },
  {
   "cell_type": "markdown",
   "metadata": {},
   "source": [
    "An analysis where we bin groups of peole together is movtivated by the fact that we have so few samples of people who report high rates of depression. This is a major flaw in this dataset.\n",
    "\n",
    "Even if we binned groups of people together, MSE stays greater than 5. And you can see that in the above cell, the model is predicting values between 3 adn 6 each time."
   ]
  }
 ],
 "metadata": {
  "kernelspec": {
   "display_name": "Python 3",
   "language": "python",
   "name": "python3"
  },
  "language_info": {
   "codemirror_mode": {
    "name": "ipython",
    "version": 3
   },
   "file_extension": ".py",
   "mimetype": "text/x-python",
   "name": "python",
   "nbconvert_exporter": "python",
   "pygments_lexer": "ipython3",
   "version": "3.6.8"
  }
 },
 "nbformat": 4,
 "nbformat_minor": 2
}
