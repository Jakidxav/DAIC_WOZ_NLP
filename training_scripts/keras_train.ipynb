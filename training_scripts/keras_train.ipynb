{
 "cells": [
  {
   "cell_type": "code",
   "execution_count": 2,
   "metadata": {},
   "outputs": [],
   "source": [
    "import pandas as pd\n",
    "import numpy as np\n",
    "from numpy.linalg import svd , eig, inv\n",
    "\n",
    "import matplotlib.pyplot as plt\n",
    "%matplotlib inline\n",
    "import seaborn as sns\n",
    "sns.set_style(\"darkgrid\")\n",
    "\n",
    "from keras.models import Sequential, Model, save_model, load_model\n",
    "from keras.layers import Dense, Activation, Conv2D, Input, AveragePooling2D, MaxPooling2D, Flatten, TimeDistributed, LSTM, Dropout, BatchNormalization\n",
    "from keras.metrics import binary_accuracy\n",
    "from keras.losses import  binary_crossentropy\n",
    "from keras.regularizers import l2\n",
    "from keras.optimizers import SGD, Adam"
   ]
  },
  {
   "cell_type": "code",
   "execution_count": 3,
   "metadata": {},
   "outputs": [],
   "source": [
    "#files on disk\n",
    "scores_file = 'full_dataset.csv'\n",
    "vector_file_i = 'X_i_doc2vec.npy'\n",
    "vector_file_i_10 = 'X_i_doc2vec_10.npy'\n",
    "\n",
    "#load files\n",
    "df = pd.read_csv(scores_file, index_col=0)\n",
    "\n",
    "X_i = np.load(vector_file_i)\n",
    "X_i_10 = np.load(vector_file_i_10)\n",
    "\n",
    "y = df['PHQ8_Binary'].values\n",
    "y2 = df['PHQ8_Score'].values"
   ]
  },
  {
   "cell_type": "markdown",
   "metadata": {},
   "source": [
    "### Notes\n",
    "\n",
    "- Alhanai Interspeech paper: \"The data was split intoa training (57%, 107 subjects), development (19%, 35 subjects),and test (25%, 47 subjects)\"\n",
    "- We were interested in modeling (1) the binary state of a subject(depressed or not), as well as (2) the severity of their depression.The  severity  of  depression  ranged  from  0  to  27  with  a  scorefrom 0-4 considered none or minimal, 5-9 mild, 10-14 moderate, 15-19 moderately severe, and 20-27 severe.\n",
    "- Within the dataset, 28 out of 142 subjects (20%) were labeled as depressed.\n",
    "- Link to paper: https://groups.csail.mit.edu/sls/publications/2018/Alhanai_Interspeech-2018.pdf\n",
    "- github repo"
   ]
  },
  {
   "cell_type": "code",
   "execution_count": null,
   "metadata": {},
   "outputs": [],
   "source": []
  }
 ],
 "metadata": {
  "kernelspec": {
   "display_name": "Python 3",
   "language": "python",
   "name": "python3"
  },
  "language_info": {
   "codemirror_mode": {
    "name": "ipython",
    "version": 3
   },
   "file_extension": ".py",
   "mimetype": "text/x-python",
   "name": "python",
   "nbconvert_exporter": "python",
   "pygments_lexer": "ipython3",
   "version": "3.6.8"
  }
 },
 "nbformat": 4,
 "nbformat_minor": 2
}
